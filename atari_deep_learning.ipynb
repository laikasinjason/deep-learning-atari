{
 "cells": [
  {
   "cell_type": "code",
   "execution_count": 1,
   "metadata": {},
   "outputs": [
    {
     "name": "stderr",
     "output_type": "stream",
     "text": [
      "/usr/lib/python3.6/importlib/_bootstrap.py:219: RuntimeWarning: numpy.dtype size changed, may indicate binary incompatibility. Expected 96, got 88\n",
      "  return f(*args, **kwds)\n",
      "/usr/lib/python3.6/importlib/_bootstrap.py:219: RuntimeWarning: numpy.dtype size changed, may indicate binary incompatibility. Expected 96, got 88\n",
      "  return f(*args, **kwds)\n",
      "Using TensorFlow backend.\n"
     ]
    },
    {
     "data": {
      "text/plain": [
       "['/device:GPU:0']"
      ]
     },
     "execution_count": 1,
     "metadata": {},
     "output_type": "execute_result"
    }
   ],
   "source": [
    "from tensorflow.python.client import device_lib\n",
    "import numpy as np\n",
    "from skimage.transform import resize\n",
    "from keras.utils.vis_utils import plot_model\n",
    "import keras\n",
    "from pre_process import PreProcess\n",
    "from atari_model1 import Atari_Model1\n",
    "import environment\n",
    "from ring_buf import RingBuf\n",
    "from logger import Logger\n",
    "from agent import Agent\n",
    "import environment\n",
    "import model_loading\n",
    "# Import the gym module\n",
    "import gym\n",
    "from sklearn.preprocessing import OneHotEncoder\n",
    "\n",
    "def get_available_gpus():\n",
    "    local_device_protos = device_lib.list_local_devices()\n",
    "    \n",
    "    return [x.name for x in local_device_protos if x.device_type == 'GPU']\n",
    "\n",
    "get_available_gpus()"
   ]
  },
  {
   "cell_type": "code",
   "execution_count": 2,
   "metadata": {},
   "outputs": [
    {
     "name": "stderr",
     "output_type": "stream",
     "text": [
      "/home/laikasin93/.local/lib/python3.6/site-packages/gym/envs/registration.py:14: PkgResourcesDeprecationWarning: Parameters to load are deprecated.  Call .resolve and .require separately.\n",
      "  result = entry_point.load(False)\n",
      "/home/laikasin93/python/atari_game/atari_model1.py:18: UserWarning: Update your `Conv2D` call to the Keras 2 API: `Conv2D(16, (8, 8), activation=\"relu\", strides=(4, 4))`\n",
      "  conv_1 = keras.layers.convolutional.Convolution2D(16, 8, 8, subsample=(4, 4), activation='relu')(frames_input)\n",
      "/home/laikasin93/python/atari_game/atari_model1.py:20: UserWarning: Update your `Conv2D` call to the Keras 2 API: `Conv2D(32, (4, 4), activation=\"relu\", strides=(2, 2))`\n",
      "  conv_2 = keras.layers.convolutional.Convolution2D(32, 4, 4, subsample=(2, 2), activation='relu')(conv_1)\n",
      "/home/laikasin93/python/atari_game/atari_model1.py:28: UserWarning: Update your `Model` call to the Keras 2 API: `Model(inputs=[<tf.Tenso..., outputs=Tensor(\"de...)`\n",
      "  model = keras.models.Model(input=[frames_input], output=output)\n",
      "/home/laikasin93/.local/lib/python3.6/site-packages/skimage/transform/_warps.py:105: UserWarning: The default mode, 'constant', will be changed to 'reflect' in skimage 0.15.\n",
      "  warn(\"The default mode, 'constant', will be changed to 'reflect' in \"\n",
      "/home/laikasin93/.local/lib/python3.6/site-packages/skimage/transform/_warps.py:110: UserWarning: Anti-aliasing will be enabled by default in skimage 0.15 to avoid aliasing artifacts when down-sampling images.\n",
      "  warn(\"Anti-aliasing will be enabled by default in skimage 0.15 to \"\n"
     ]
    },
    {
     "name": "stdout",
     "output_type": "stream",
     "text": [
      "ring buf size:  10000 / 100000\n",
      "ring buf size:  20000 / 100000\n",
      "ring buf size:  30000 / 100000\n",
      "ring buf size:  40000 / 100000\n",
      "ring buf size:  50000 / 100000\n",
      "ring buf size:  60000 / 100000\n",
      "ring buf size:  70000 / 100000\n",
      "ring buf size:  80000 / 100000\n",
      "ring buf size:  90000 / 100000\n",
      "ring buf size:  100000 / 100000\n",
      "ring buf size:  100000 / 100000\n",
      "ring buf size:  100000 / 100000\n",
      "ring buf size:  100000 / 100000\n",
      "ring buf size:  100000 / 100000\n",
      "ring buf size:  100000 / 100000\n",
      "ring buf size:  100000 / 100000\n",
      "ring buf size:  100000 / 100000\n",
      "ring buf size:  100000 / 100000\n",
      "ring buf size:  100000 / 100000\n",
      "ring buf size:  100000 / 100000\n",
      "ring buf size:  100000 / 100000\n",
      "ring buf size:  100000 / 100000\n",
      "ring buf size:  100000 / 100000\n",
      "ring buf size:  100000 / 100000\n",
      "ring buf size:  100000 / 100000\n",
      "ring buf size:  100000 / 100000\n",
      "ring buf size:  100000 / 100000\n",
      "ring buf size:  100000 / 100000\n",
      "ring buf size:  100000 / 100000\n",
      "ring buf size:  100000 / 100000\n",
      "ring buf size:  100000 / 100000\n",
      "ring buf size:  100000 / 100000\n",
      "ring buf size:  100000 / 100000\n",
      "ring buf size:  100000 / 100000\n",
      "ring buf size:  100000 / 100000\n",
      "ring buf size:  100000 / 100000\n",
      "ring buf size:  100000 / 100000\n",
      "ring buf size:  100000 / 100000\n",
      "ring buf size:  100000 / 100000\n",
      "ring buf size:  100000 / 100000\n",
      "ring buf size:  100000 / 100000\n",
      "ring buf size:  100000 / 100000\n",
      "ring buf size:  100000 / 100000\n",
      "ring buf size:  100000 / 100000\n",
      "ring buf size:  100000 / 100000\n",
      "ring buf size:  100000 / 100000\n",
      "ring buf size:  100000 / 100000\n",
      "ring buf size:  100000 / 100000\n",
      "ring buf size:  100000 / 100000\n",
      "ring buf size:  100000 / 100000\n",
      "ring buf size:  100000 / 100000\n",
      "ring buf size:  100000 / 100000\n",
      "Enriched ring buf,  100000 isFull:  True\n"
     ]
    },
    {
     "data": {
      "text/plain": [
       "OneHotEncoder(categorical_features='all', dtype=<class 'numpy.float64'>,\n",
       "       handle_unknown='error', n_values='auto', sparse=False)"
      ]
     },
     "execution_count": 2,
     "metadata": {},
     "output_type": "execute_result"
    }
   ],
   "source": [
    "onehot_encoder = OneHotEncoder(sparse=False)\n",
    "\n",
    "# Create a breakout environment\n",
    "env = gym.make('BreakoutDeterministic-v4')\n",
    "\n",
    "# Render\n",
    "# env.render()\n",
    "\n",
    "toy = False\n",
    "frames = []\n",
    "rewards = []\n",
    "if toy:\n",
    "    ring_buf_size = 10000\n",
    "    max_iter = 100000 # total of iterations\n",
    "    iter_loop = 10000\n",
    "else:\n",
    "    ring_buf_size = 100000\n",
    "    max_iter = 10000000 # total of iterations\n",
    "    iter_loop = 100000\n",
    "    \n",
    "ring_buf = RingBuf(ring_buf_size)\n",
    "# model = Atari_Model2(4)\n",
    "model = Atari_Model1(4)\n",
    "pre_process = PreProcess()\n",
    "logger = Logger(10)\n",
    "agent = Agent()\n",
    "\n",
    "iteration = 1 # initialize counter\n",
    "update_model_loop = 10000 # copy model every this value\n",
    "\n",
    "# First enrich the whole ring_buf\n",
    "while not ring_buf.isFull():\n",
    "    agent.reset_env(env, pre_process)\n",
    "    \n",
    "    while not agent.is_terminate:\n",
    "        # Perform a random action, returns the new frame, reward and whether the game is over\n",
    "        action = env.action_space.sample()\n",
    "        agent.do_action(env, pre_process, action)\n",
    "        \n",
    "        ring_buf.append((agent.start_states, action, agent.total_reward, agent.end_states, agent.lose_life))\n",
    "        if(len(ring_buf) % 10000 == 0):\n",
    "            print(\"ring buf size: \", len(ring_buf),\"/\",ring_buf_size)\n",
    "        \n",
    "print(\"Enriched ring buf, \", len(ring_buf),\"isFull: \",  ring_buf.isFull())\n",
    "\n",
    "onehot_encoder.fit((np.asarray(ring_buf.data)).transpose()[1].reshape(-1,1))"
   ]
  },
  {
   "cell_type": "code",
   "execution_count": null,
   "metadata": {},
   "outputs": [],
   "source": [
    "while iteration < max_iter:\n",
    "    agent.reset_env(env, pre_process)\n",
    "    \n",
    "    while not agent.is_terminate:\n",
    "        # Iterate with DQN\n",
    "        loss = environment.q_iteration(env, model.model, model.target_model, agent, iteration, \n",
    "                    ring_buf, onehot_encoder, pre_process)\n",
    "\n",
    "\n",
    "        iteration = iteration + 1\n",
    "        if(iteration == max_iter):\n",
    "            break\n",
    "        else:\n",
    "            if(iteration%update_model_loop == 0):\n",
    "                model.copy_model()\n",
    "                # save model weights in yml, h5\n",
    "                save_model(model.model)\n",
    "            if(iteration%iter_loop == 0):\n",
    "                print(\"Progess : \", iteration,\"/\",max_iter)\n",
    "                agent.iteration = iteration\n",
    "                # evaluate and save stat in file\n",
    "                environment.evaluate(logger, model, agent, pre_process)\n",
    "    # Render\n",
    "#     env.render()"
   ]
  },
  {
   "cell_type": "code",
   "execution_count": 33,
   "metadata": {},
   "outputs": [
    {
     "name": "stdout",
     "output_type": "stream",
     "text": [
      "_________________________________________________________________\n",
      "Layer (type)                 Output Shape              Param #   \n",
      "=================================================================\n",
      "frames (InputLayer)          (None, 84, 84, 4)         0         \n",
      "_________________________________________________________________\n",
      "conv2d_1 (Conv2D)            (None, 20, 20, 16)        4112      \n",
      "_________________________________________________________________\n",
      "conv2d_2 (Conv2D)            (None, 9, 9, 32)          8224      \n",
      "_________________________________________________________________\n",
      "flatten_1 (Flatten)          (None, 2592)              0         \n",
      "_________________________________________________________________\n",
      "dense_1 (Dense)              (None, 256)               663808    \n",
      "_________________________________________________________________\n",
      "dense_2 (Dense)              (None, 4)                 1028      \n",
      "=================================================================\n",
      "Total params: 677,172\n",
      "Trainable params: 677,172\n",
      "Non-trainable params: 0\n",
      "_________________________________________________________________\n"
     ]
    }
   ],
   "source": [
    "model.model.summary()\n",
    "# plot_model(model.model, to_file='model_plot.png', show_shapes=True, show_layer_names=True)"
   ]
  },
  {
   "cell_type": "code",
   "execution_count": 69,
   "metadata": {},
   "outputs": [
    {
     "name": "stderr",
     "output_type": "stream",
     "text": [
      "/home/laikasin93/.local/lib/python3.6/site-packages/skimage/transform/_warps.py:105: UserWarning: The default mode, 'constant', will be changed to 'reflect' in skimage 0.15.\n",
      "  warn(\"The default mode, 'constant', will be changed to 'reflect' in \"\n",
      "/home/laikasin93/.local/lib/python3.6/site-packages/skimage/transform/_warps.py:110: UserWarning: Anti-aliasing will be enabled by default in skimage 0.15 to avoid aliasing artifacts when down-sampling images.\n",
      "  warn(\"Anti-aliasing will be enabled by default in skimage 0.15 to \"\n",
      "/home/laikasin93/.local/lib/python3.6/site-packages/skimage/transform/_warps.py:105: UserWarning: The default mode, 'constant', will be changed to 'reflect' in skimage 0.15.\n",
      "  warn(\"The default mode, 'constant', will be changed to 'reflect' in \"\n",
      "/home/laikasin93/.local/lib/python3.6/site-packages/skimage/transform/_warps.py:110: UserWarning: Anti-aliasing will be enabled by default in skimage 0.15 to avoid aliasing artifacts when down-sampling images.\n",
      "  warn(\"Anti-aliasing will be enabled by default in skimage 0.15 to \"\n"
     ]
    }
   ],
   "source": [
    "import os\n",
    "cwd = os.getcwd()\n",
    "cwd=cwd+\"/atari.mp4\"\n",
    "\n",
    "# Create a breakout environment\n",
    "env = gym.make('BreakoutDeterministic-v4')\n",
    "\n",
    "\n",
    "video_recorder = None\n",
    "video_recorder = gym.wrappers.monitoring.video_recorder.VideoRecorder(\n",
    "        env, cwd, enabled=cwd is not None)\n",
    "\n",
    "agent.reset_env(env, pre_process)\n",
    "# Render\n",
    "env.unwrapped.render()\n",
    "video_recorder.capture_frame()\n",
    "\n",
    "while not agent.is_terminate:\n",
    "    action = choose_best_action(model.model, agent.end_states, env.action_space.n)\n",
    "    agent.do_action(env, pre_process, action)\n",
    "    reward += agent.total_reward\n",
    "#     frame, reward, is_terminate, _ = env.step(env.action_space.sample())\n",
    "    # Render\n",
    "    env.unwrapped.render()\n",
    "    video_recorder.capture_frame()\n",
    "#     time.sleep(1)\n",
    "video_recorder.close()\n",
    "video_recorder.enabled = False"
   ]
  },
  {
   "cell_type": "code",
   "execution_count": 98,
   "metadata": {},
   "outputs": [
    {
     "data": {
      "image/png": "[encoded data removed]",
      "text/plain": [
       "<Figure size 432x288 with 1 Axes>"
      ]
     },
     "metadata": {},
     "output_type": "display_data"
    }
   ],
   "source": [
    "import pandas\n",
    "%matplotlib inline\n",
    "import matplotlib.pyplot as plt\n",
    "\n",
    "\n",
    "progress_df = pandas.read_csv(\"model_learn_progress.txt\")\n",
    "plt.plot(progress_df['ADV_RETURN'])\n",
    "plt.ylabel('reward')\n",
    "plt.xlabel('Num of steps (100k)')\n",
    "plt.title('Reward after different learning steps (Clipped reward)')\n",
    "# plt.show()\n",
    "plt.savefig('progress.jpg')"
   ]
  },
  {
   "cell_type": "code",
   "execution_count": null,
   "metadata": {},
   "outputs": [],
   "source": [
    "# while not is_terminate:\n",
    "#     frame, reward, is_terminate, live_info = env.step(env.action_space.sample())\n",
    "#     print(is_terminate, live_info)"
   ]
  },
  {
   "cell_type": "code",
   "execution_count": 71,
   "metadata": {
    "scrolled": true
   },
   "outputs": [],
   "source": [
    "# pre_process  = PreProcess()\n",
    "\n",
    "# import matplotlib.pyplot as plt\n",
    "# import gym\n",
    "# # Create the environment and display the initial state\n",
    "# env = gym.make('BreakoutDeterministic-v4')\n",
    "# observation = env.reset()\n",
    "# env.step(0)\n",
    "# env.step(1)\n",
    "# frame, reward, is_terminate, _ = env.step(0)\n",
    "# firstframe = env.render(mode = 'rgb_array')\n",
    "# fig,ax = plt.subplots()\n",
    "# im = ax.imshow(firstframe)\n",
    "# fig,ax = plt.subplots()\n",
    "# im = ax.imshow(frame)\n",
    "\n",
    "\n",
    "# fig,ax = plt.subplots()\n",
    "# frame_processed = pre_process.preprocess(firstframe)\n",
    "# im = ax.imshow(pre_process.preprocess(firstframe))\n",
    "# print(frame_processed.shape)"
   ]
  },
  {
   "cell_type": "code",
   "execution_count": 106,
   "metadata": {},
   "outputs": [],
   "source": [
    "# def evaluate_random(logger, model, agent, pre_process):\n",
    "\n",
    "#     print(\"Evaluation started.\")\n",
    "#     for i in range(0, logger.evaluation_number):\n",
    "#         agent.reset_env(env, pre_process)\n",
    "\n",
    "#         while not agent.is_terminate:\n",
    "#             action = env.action_space.sample()\n",
    "#             agent.do_action(env, pre_process, action)\n",
    "#             logger.write(agent)\n",
    "# logger = Logger(5)\n",
    "# evaluate_random(logger, model, agent, pre_process)"
   ]
  },
  {
   "cell_type": "code",
   "execution_count": null,
   "metadata": {},
   "outputs": [],
   "source": [
    "# load_model(model)"
   ]
  }
 ],
 "metadata": {
  "kernelspec": {
   "display_name": "Python 3",
   "language": "python",
   "name": "python3"
  },
  "language_info": {
   "codemirror_mode": {
    "name": "ipython",
    "version": 3
   },
   "file_extension": ".py",
   "mimetype": "text/x-python",
   "name": "python",
   "nbconvert_exporter": "python",
   "pygments_lexer": "ipython3",
   "version": "3.6.7"
  }
 },
 "nbformat": 4,
 "nbformat_minor": 2
}
